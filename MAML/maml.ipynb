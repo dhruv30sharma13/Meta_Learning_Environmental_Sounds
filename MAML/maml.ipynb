{
 "cells": [
  {
   "cell_type": "code",
   "execution_count": 1,
   "id": "3eef6399-77d0-4b59-a94e-6e15f3de9bf9",
   "metadata": {},
   "outputs": [],
   "source": [
    "import learn2learn as l2l\n",
    "import torch\n",
    "import MamlTools as mt\n",
    "import numpy as np"
   ]
  },
  {
   "cell_type": "code",
   "execution_count": 2,
   "id": "e09b97f3-c408-4d72-bd65-925634b0e1d7",
   "metadata": {},
   "outputs": [],
   "source": [
    "import torch\n",
    "import torch.nn as nn\n",
    "import torchvision\n",
    "import torch.nn.functional as F\n",
    "import torch.optim as optim\n",
    "from torch.autograd import Variable"
   ]
  },
  {
   "cell_type": "code",
   "execution_count": 3,
   "id": "945ef2eb-a89a-4f15-a631-9c33cb385adf",
   "metadata": {},
   "outputs": [],
   "source": [
    "from learn2learn.data.transforms import (NWays,\n",
    "                                         KShots,\n",
    "                                         LoadData,\n",
    "                                         RemapLabels,\n",
    "                                         ConsecutiveLabels)"
   ]
  },
  {
   "cell_type": "code",
   "execution_count": 4,
   "id": "e27e38fa-8543-400a-b5d8-e1baa26f11cc",
   "metadata": {},
   "outputs": [],
   "source": [
    "device = torch.device(\"cuda:0\") if torch.cuda.is_available() else torch.device(\"cpu\")"
   ]
  },
  {
   "cell_type": "code",
   "execution_count": 5,
   "id": "7e60ee94-569f-457b-973a-89a10c66b30d",
   "metadata": {},
   "outputs": [],
   "source": [
    "class Flatten(nn.Module):\n",
    "    def __init__(self):\n",
    "        super(Flatten, self).__init__()\n",
    "    \n",
    "    def forward(self, x):\n",
    "        return x.view(x.size(0), -1)\n",
    "    \n",
    "def load_maml_conv(**kwargs):\n",
    "    x_dim = kwargs['x_dim']\n",
    "    hid_dim = kwargs['hid_dim']\n",
    "    z_dim = kwargs['z_dim']\n",
    "    \n",
    "    def conv_block(in_channels, out_channels):\n",
    "        return nn.Sequential(\n",
    "            nn.Conv2d(in_channels, out_channels, 3, padding=1),\n",
    "            nn.BatchNorm2d(out_channels),\n",
    "            nn.ReLU(),\n",
    "            nn.MaxPool2d(2)\n",
    "            )\n",
    "\n",
    "    encoder = nn.Sequential(\n",
    "    conv_block(x_dim, hid_dim),\n",
    "    conv_block(hid_dim, hid_dim),\n",
    "    conv_block(hid_dim, hid_dim),\n",
    "    conv_block(hid_dim, z_dim),\n",
    "    Flatten()\n",
    "    )\n",
    "    \n",
    "    return encoder"
   ]
  },
  {
   "cell_type": "code",
   "execution_count": 6,
   "id": "a63b662a-6c74-4eae-9d42-79bf8fbbdf16",
   "metadata": {},
   "outputs": [],
   "source": [
    "test_files_path = \"../ESC-10 Metadata/ESC10TestData.npy\"\n",
    "train_files_path = \"../ESC-10 Metadata/ESC10TrainData.npy\"\n",
    "test_labels_path = \"../ESC-10 Metadata/ESC10TestLabel.npy\"\n",
    "train_labels_path = \"../ESC-10 Metadata/ESC10TrainLabel.npy\"\n",
    "database_path = \"../ESC-10 Metadata/ESC10.hdf5\""
   ]
  },
  {
   "cell_type": "code",
   "execution_count": 7,
   "id": "34695dab-1b6c-4d3f-92f6-cf3c485d1555",
   "metadata": {},
   "outputs": [],
   "source": [
    "total_sounds, total_labels = mt.get_dataset(test_files_path, train_files_path, test_labels_path, train_labels_path)"
   ]
  },
  {
   "cell_type": "code",
   "execution_count": 8,
   "id": "75b4caee-42ef-4ddb-aa33-90c583618d73",
   "metadata": {},
   "outputs": [],
   "source": [
    "# class labels\n",
    "label_list = [\"baby cry\", \"chainsaw\", \"clock tick\", \"dogbark\", \"fire cracking\", \"helicopter\", \"sneezing\", \"rain\", \"rooster\", \"sea waves\"]"
   ]
  },
  {
   "cell_type": "code",
   "execution_count": 9,
   "id": "c05e90e2-7a77-4803-9e97-e1033d43c3f7",
   "metadata": {},
   "outputs": [
    {
     "name": "stdout",
     "output_type": "stream",
     "text": [
      "tensor([1, 3, 5, 0, 4, 7]) tensor([8, 2]) tensor([6, 9])\n"
     ]
    }
   ],
   "source": [
    "# getting random train, test, validation classes from the whole meta dataset in 8:1:1 ratio\n",
    "classes = torch.randperm(10)\n",
    "train_classes, val_classes, test_classes = classes[:6], classes[6:8], classes[8:]\n",
    "print(train_classes, val_classes, test_classes)"
   ]
  },
  {
   "cell_type": "code",
   "execution_count": 10,
   "id": "8e775589-de38-4a35-bdfe-41e7cf9cb4fa",
   "metadata": {},
   "outputs": [],
   "source": [
    "train_set = mt.ImageDataset(total_sounds, total_labels, database_path, train_classes, transform = None)\n",
    "val_set = mt.ImageDataset(total_sounds, total_labels, database_path, val_classes, transform = None)\n",
    "test_set = mt.ImageDataset(total_sounds, total_labels, database_path, test_classes, transform = None)"
   ]
  },
  {
   "cell_type": "code",
   "execution_count": 11,
   "id": "01986e16-2c91-45ac-ae70-56034c698346",
   "metadata": {},
   "outputs": [],
   "source": [
    "train_sounds, train_labels = train_set.get_labels_n_sounds()\n",
    "val_sounds, val_labels = val_set.get_labels_n_sounds()\n",
    "test_sounds, test_labels = test_set.get_labels_n_sounds()"
   ]
  },
  {
   "cell_type": "code",
   "execution_count": 12,
   "id": "0f161bed-158a-4f98-99c3-126a62c11f81",
   "metadata": {},
   "outputs": [],
   "source": [
    "n_way = 4\n",
    "k_shot = 5"
   ]
  },
  {
   "cell_type": "code",
   "execution_count": 13,
   "id": "c9a533c2-a521-4534-a51e-99337a0e3ca0",
   "metadata": {},
   "outputs": [],
   "source": [
    "train_batches = mt.BatchSampler(n_way, k_shot, train_sounds, train_labels, include_query = True, shuffle = True)\n",
    "val_batches = mt.BatchSampler(1, 3, val_sounds, val_labels, include_query = True, shuffle = True)\n",
    "test_batches = mt.BatchSampler(4, 3, test_sounds, test_labels, include_query = True, shuffle = True)"
   ]
  },
  {
   "cell_type": "code",
   "execution_count": 14,
   "id": "15a6059f-7b36-4d7e-b9da-a9bc72d5b7f7",
   "metadata": {},
   "outputs": [],
   "source": [
    "model = load_maml_conv(x_dim = 1, hid_dim = 64, z_dim = 64)"
   ]
  },
  {
   "cell_type": "code",
   "execution_count": 15,
   "id": "1a7ad166-1ec2-477f-b55d-12f57d5fc750",
   "metadata": {},
   "outputs": [],
   "source": [
    "dat = mt.ImageDataset(total_sounds, total_labels, database_path, train_labels, transform = None)\n",
    "dataset = l2l.data.MetaDataset(dat)\n",
    "transforms = [\n",
    "    l2l.data.transforms.NWays(dataset, n=4),\n",
    "    l2l.data.transforms.KShots(dataset, k=6),\n",
    "    l2l.data.transforms.LoadData(dataset),\n",
    "]"
   ]
  },
  {
   "cell_type": "code",
   "execution_count": 16,
   "id": "6d6845e8-e33c-400f-8409-34606798cc09",
   "metadata": {},
   "outputs": [],
   "source": [
    "tasksets = l2l.data.TaskDataset(dataset, transforms, num_tasks=2000)"
   ]
  },
  {
   "cell_type": "code",
   "execution_count": 17,
   "id": "ba368e00-1efa-4c03-831e-c7f123dba9c1",
   "metadata": {},
   "outputs": [],
   "source": [
    "maml = l2l.algorithms.MAML(model, lr = 0.001, first_order = True)"
   ]
  },
  {
   "cell_type": "code",
   "execution_count": 18,
   "id": "4f08d1bf-1c02-4c5b-bd18-0943703f7a61",
   "metadata": {},
   "outputs": [],
   "source": [
    "optimizer = optim.Adam(model.parameters(), lr = 0.001)\n",
    "loss = nn.CrossEntropyLoss(reduction='mean')"
   ]
  },
  {
   "cell_type": "code",
   "execution_count": 19,
   "id": "e38f3c10-a950-4fdc-a820-d71b400cf533",
   "metadata": {},
   "outputs": [],
   "source": [
    "def accuracy(predictions, targets):\n",
    "    predictions = predictions.argmax(dim=1).view(targets.shape)\n",
    "    return (predictions == targets).sum().float() / targets.size(0)"
   ]
  },
  {
   "cell_type": "code",
   "execution_count": 20,
   "id": "1abb9b2c-a60d-4d1b-b065-cb985c81f09f",
   "metadata": {},
   "outputs": [],
   "source": [
    "def fast_adapt(batch, learner, loss, adaptation_steps, shots, ways, device):\n",
    "    data, labels = batch\n",
    "    data, labels = data.to(device), labels.to(device)\n",
    "\n",
    "    # Separate data into adaptation/evalutation sets\n",
    "    adaptation_indices = np.zeros(data.size(0), dtype=bool)\n",
    "    adaptation_indices[np.arange(shots*ways) * 2] = True\n",
    "    evaluation_indices = torch.from_numpy(~adaptation_indices)\n",
    "    adaptation_indices = torch.from_numpy(adaptation_indices)\n",
    "    adaptation_data, adaptation_labels = data[adaptation_indices], labels[adaptation_indices]\n",
    "    evaluation_data, evaluation_labels = data[evaluation_indices], labels[evaluation_indices]\n",
    "\n",
    "    # Adapt the model\n",
    "    for step in range(adaptation_steps):\n",
    "        adaptation_error = loss(learner(adaptation_data), adaptation_labels)\n",
    "        learner.adapt(adaptation_error)\n",
    "\n",
    "    # Evaluate the adapted model\n",
    "    predictions = learner(evaluation_data)\n",
    "    evaluation_error = loss(predictions, evaluation_labels)\n",
    "    evaluation_accuracy = accuracy(predictions, evaluation_labels)\n",
    "    return evaluation_error, evaluation_accuracy"
   ]
  },
  {
   "cell_type": "code",
   "execution_count": 21,
   "id": "20fa6dba-2991-491a-949c-c9e457e1343e",
   "metadata": {},
   "outputs": [],
   "source": [
    "# training\n",
    "num_iterations = 100\n",
    "ways=4\n",
    "shots=3\n",
    "meta_lr=0.003\n",
    "fast_lr=0.5\n",
    "meta_batch_size=32\n",
    "adaptation_steps=1\n",
    "num_iterations=100\n",
    "cuda=True\n",
    "seed=42"
   ]
  },
  {
   "cell_type": "code",
   "execution_count": null,
   "id": "251a850f-ee98-477e-9160-c2950453653b",
   "metadata": {
    "scrolled": true
   },
   "outputs": [],
   "source": [
    "# training\n",
    "num_iterations = 100\n",
    "ways=4\n",
    "shots=3\n",
    "meta_lr=0.003\n",
    "fast_lr=0.5\n",
    "meta_batch_size=32\n",
    "adaptation_steps=1\n",
    "num_iterations=100\n",
    "cuda=True\n",
    "seed=42\n",
    "\n",
    "maml.to(device)\n",
    "\n",
    "for iteration in range(num_iterations):\n",
    "    optimizer.zero_grad()\n",
    "\n",
    "    meta_train_error = 0.0\n",
    "    meta_train_accuracy = 0.0\n",
    "    meta_valid_error = 0.0\n",
    "    meta_valid_accuracy = 0.0\n",
    "\n",
    "    for task in range(32):\n",
    "        learner = maml.clone()\n",
    "        batch = tasksets.sample()\n",
    "        \n",
    "        evaluation_error, evaluation_accuracy = fast_adapt(batch,\n",
    "                                                           learner,\n",
    "                                                           loss,\n",
    "                                                           adaptation_steps,\n",
    "                                                           shots,\n",
    "                                                           ways,\n",
    "                                                           device)\n",
    "        \n",
    "        evaluation_error.backward()\n",
    "        meta_train_error += evaluation_error.item()\n",
    "        meta_train_accuracy += evaluation_accuracy.item()\n",
    "        \n",
    "        learner = maml.clone()\n",
    "        batch = tasksets.sample()\n",
    "        \n",
    "        evaluation_error, evaluation_accuracy = fast_adapt(batch,\n",
    "                                                               learner,\n",
    "                                                               loss,\n",
    "                                                               adaptation_steps,\n",
    "                                                               shots,\n",
    "                                                               ways,\n",
    "                                                               device)\n",
    "        meta_valid_error += evaluation_error.item()\n",
    "        meta_valid_accuracy += evaluation_accuracy.item()\n",
    "    \n",
    "    torch.save(learner.state_dict(), \"maml_model_parameters.ckpt\")\n",
    "    \n",
    "    print('\\n')\n",
    "    print('Iteration', iteration)\n",
    "    print('Meta Train Error', meta_train_error / meta_batch_size)\n",
    "    print('Meta Train Accuracy', (meta_train_accuracy / meta_batch_size) * 100, \"%\")\n",
    "    print('Meta Valid Error', meta_valid_error / meta_batch_size)\n",
    "    print('Meta Valid Accuracy', (meta_valid_accuracy / meta_batch_size) * 100, \"%\")\n",
    "\n",
    "    # Average the accumulated gradients and optimize\n",
    "    for p in maml.parameters():\n",
    "        p.grad.data.mul_(1.0 / meta_batch_size)\n",
    "    optimizer.step()"
   ]
  },
  {
   "cell_type": "code",
   "execution_count": 22,
   "id": "ccbfdf91",
   "metadata": {},
   "outputs": [],
   "source": [
    "shot_vals = []"
   ]
  },
  {
   "cell_type": "code",
   "execution_count": 23,
   "id": "b6cdffec",
   "metadata": {},
   "outputs": [],
   "source": [
    "accs = []"
   ]
  },
  {
   "cell_type": "code",
   "execution_count": 26,
   "id": "dcfb683b-c1c4-4ef8-9e0b-c3a39300d6d6",
   "metadata": {},
   "outputs": [
    {
     "name": "stdout",
     "output_type": "stream",
     "text": [
      "For 2 shots:\n",
      "Meta Test Error 1.8734911817591637\n",
      "Meta Test Accuracy 61.7187509778887 %\n",
      "For 4 shots:\n",
      "Meta Test Error 1.59246124594938\n",
      "Meta Test Accuracy 67.5000011920929 %\n",
      "For 6 shots:\n",
      "Meta Test Error 1.6321208043955266\n",
      "Meta Test Accuracy 65.88542107492685 %\n",
      "For 8 shots:\n",
      "Meta Test Error 1.7831605144310743\n",
      "Meta Test Accuracy 62.61718855239451 %\n"
     ]
    }
   ],
   "source": [
    "ways = 3\n",
    "\n",
    "maml.to(device)\n",
    "meta_batch_size = 64\n",
    "\n",
    "for shots in [2, 4, 6, 8]:\n",
    "    dat = mt.ImageDataset(total_sounds, total_labels, database_path, train_labels, transform = None)\n",
    "    dataset = l2l.data.MetaDataset(dat)\n",
    "    transforms = [\n",
    "        l2l.data.transforms.NWays(dataset, n = 4),\n",
    "        l2l.data.transforms.KShots(dataset, k = shots * 2),\n",
    "        l2l.data.transforms.LoadData(dataset),\n",
    "    ]\n",
    "    tasksets = l2l.data.TaskDataset(dataset, transforms, num_tasks=2000)\n",
    "\n",
    "    meta_test_error = 0.0\n",
    "    meta_test_accuracy = 0.0\n",
    "    \n",
    "    for task in range(meta_batch_size):\n",
    "        # Compute meta-testing loss\n",
    "        learner = maml.clone()\n",
    "        learner.load_state_dict(torch.load(\"maml_model_parameters.ckpt\"))\n",
    "        learner.eval()\n",
    "        batch = tasksets.sample()\n",
    "        evaluation_error, evaluation_accuracy = fast_adapt(batch,\n",
    "                                                            learner,\n",
    "                                                            loss,\n",
    "                                                            adaptation_steps,\n",
    "                                                            shots,\n",
    "                                                            ways,\n",
    "                                                            device)\n",
    "        meta_test_error += evaluation_error.item()\n",
    "        meta_test_accuracy += evaluation_accuracy.item()\n",
    "        \n",
    "    print(\"For {} shots:\".format(shots))\n",
    "    print('Meta Test Error', meta_test_error / meta_batch_size)\n",
    "    print('Meta Test Accuracy', (meta_test_accuracy / meta_batch_size) * 100, \"%\")\n",
    "    accs.append((meta_test_accuracy / meta_batch_size) * 100)\n",
    "    shot_vals.append(shots)"
   ]
  },
  {
   "cell_type": "code",
   "execution_count": 33,
   "id": "bc0826a0-6a9f-4c62-bbac-dbdf38238151",
   "metadata": {},
   "outputs": [
    {
     "name": "stdout",
     "output_type": "stream",
     "text": [
      "[63.28125102445483, 66.09375120606273, 66.56250422820449, 65.15625105239451]\n",
      "[2.0, 4.0, 6.0, 8.0]\n"
     ]
    }
   ],
   "source": [
    "print(accs)\n",
    "print(shot_vals)"
   ]
  },
  {
   "cell_type": "code",
   "execution_count": 34,
   "id": "3063a8a0",
   "metadata": {},
   "outputs": [],
   "source": [
    "import os\n",
    "os.environ['KMP_DUPLICATE_LIB_OK'] = 'True'"
   ]
  },
  {
   "cell_type": "code",
   "execution_count": 35,
   "id": "11c71ca6",
   "metadata": {},
   "outputs": [],
   "source": [
    "import matplotlib.pyplot as plt\n",
    "import seaborn as sns\n",
    "import pandas as pd"
   ]
  },
  {
   "cell_type": "code",
   "execution_count": 36,
   "id": "da69c444",
   "metadata": {},
   "outputs": [],
   "source": [
    "sns.set_style('darkgrid') # darkgrid, white grid, dark, white and ticksplt.rc('axes', titlesize=18)     # fontsize of the axes title\n",
    "plt.rc('axes', labelsize=14)    # fontsize of the x and y labels\n",
    "plt.rc('xtick', labelsize=13)    # fontsize of the tick labels\n",
    "plt.rc('ytick', labelsize=13)    # fontsize of the tick labels\n",
    "plt.rc('legend', fontsize=13)    # legend fontsize\n",
    "plt.rc('font', size=13)     "
   ]
  },
  {
   "cell_type": "code",
   "execution_count": 40,
   "id": "cb6e0c14",
   "metadata": {},
   "outputs": [
    {
     "data": {
      "text/plain": [
       "[<matplotlib.lines.Line2D at 0x1c5f8876580>]"
      ]
     },
     "execution_count": 40,
     "metadata": {},
     "output_type": "execute_result"
    },
    {
     "data": {
      "image/png": "[encoded data removed]",
      "text/plain": [
       "<Figure size 640x480 with 1 Axes>"
      ]
     },
     "metadata": {},
     "output_type": "display_data"
    }
   ],
   "source": [
    "plt.plot(shot_vals, accs, \"go\", linewidth = 2, linestyle = \"-\")"
   ]
  },
  {
   "cell_type": "code",
   "execution_count": null,
   "id": "cb14020b",
   "metadata": {},
   "outputs": [],
   "source": []
  },
  {
   "cell_type": "code",
   "execution_count": null,
   "id": "0dd2fb65",
   "metadata": {},
   "outputs": [],
   "source": []
  }
 ],
 "metadata": {
  "kernelspec": {
   "display_name": "Python 3 (ipykernel)",
   "language": "python",
   "name": "python3"
  },
  "language_info": {
   "codemirror_mode": {
    "name": "ipython",
    "version": 3
   },
   "file_extension": ".py",
   "mimetype": "text/x-python",
   "name": "python",
   "nbconvert_exporter": "python",
   "pygments_lexer": "ipython3",
   "version": "3.10.11"
  }
 },
 "nbformat": 4,
 "nbformat_minor": 5
}
